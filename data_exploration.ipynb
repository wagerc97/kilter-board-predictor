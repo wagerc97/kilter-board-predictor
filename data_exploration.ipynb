{
 "cells": [
  {
   "cell_type": "markdown",
   "id": "88ceda7e",
   "metadata": {},
   "source": [
    "# Data Exploration"
   ]
  },
  {
   "cell_type": "code",
   "execution_count": null,
   "id": "4b9617d8",
   "metadata": {},
   "outputs": [],
   "source": [
    "# import libraries for exploration of sqlite database \n",
    "import sqlite3\n",
    "import pandas as pd\n",
    "import matplotlib.pyplot as plt\n"
   ]
  }
 ],
 "metadata": {
  "language_info": {
   "name": "python"
  }
 },
 "nbformat": 4,
 "nbformat_minor": 5
}
